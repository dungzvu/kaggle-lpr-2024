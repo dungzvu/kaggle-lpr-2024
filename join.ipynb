{
 "cells": [
  {
   "cell_type": "code",
   "execution_count": 26,
   "metadata": {},
   "outputs": [],
   "source": [
    "import pandas as pd\n",
    "pd.set_option('display.max_colwidth', None)\n",
    "pd.set_option('display.max_rows', 500)"
   ]
  },
  {
   "cell_type": "code",
   "execution_count": 27,
   "metadata": {},
   "outputs": [],
   "source": [
    "import pandas as pd\n",
    "\n",
    "# ls = [\n",
    "#     pd.read_csv(f'data/0407/data/validate_dataset_chunk_{i}.csv')\n",
    "#     for i in range(10)\n",
    "# ]\n",
    "\n",
    "# df = pd.concat(ls, axis=0)\n",
    "# df.to_csv('data/0407/data/validate_dataset_with_rw.csv', index=False)\n",
    "\n",
    "# df.shape\n",
    "\n",
    "df = pd.read_csv('data/0407/data/validate_dataset_with_rw.csv')"
   ]
  },
  {
   "cell_type": "code",
   "execution_count": 28,
   "metadata": {},
   "outputs": [
    {
     "name": "stdout",
     "output_type": "stream",
     "text": [
      "(950, 3)\n"
     ]
    },
    {
     "data": {
      "text/plain": [
       "\"Remote's sleek grace,\\nSwings the channel with a taste\""
      ]
     },
     "execution_count": 28,
     "metadata": {},
     "output_type": "execute_result"
    }
   ],
   "source": [
    "test_df = df[['rewrite_prompt', 'original_text', 'rewritten_text']]\n",
    "\n",
    "# Filter rows where 'rewritten_text' contains only ASCII characters\n",
    "test_df = test_df[test_df['rewritten_text'].apply(lambda x: x.isascii() \\\n",
    "                                                  and '[Your Name]' not in x \\\n",
    "                                                  and '[Insert Date]' not in x)]\n",
    "\n",
    "test_df['rewritten_text'] = test_df['rewritten_text'] \\\n",
    "                                .str.replace(r\"^Sure.+\\:\", \"\", regex=True) \\\n",
    "                                .str.replace(r\"^>\", \"\", regex=True) \\\n",
    "                                .str.replace(\"Sure, here is the rewrite in limerick form:\", \"\") \\\n",
    "                                .str.strip() \\\n",
    "                                .apply(lambda x: x if not (x.startswith('\"\"\"') and x.endswith('\"\"\"')) else x[3:-3])\n",
    "\n",
    "print(test_df.shape)\n",
    "# clean unneeded text\n",
    "\n",
    "\n",
    "first_sentence = test_df['rewritten_text'].str.split('.').str[0].str[:100]\n",
    "first_sentence.loc[845]\n",
    "\n",
    "\n",
    "# [Your Name]"
   ]
  },
  {
   "cell_type": "code",
   "execution_count": 29,
   "metadata": {},
   "outputs": [],
   "source": [
    "test_df.to_csv('data/0407/data/validate_dataset_with_rw_cleaned.csv', index=False)"
   ]
  }
 ],
 "metadata": {
  "kernelspec": {
   "display_name": "base",
   "language": "python",
   "name": "python3"
  },
  "language_info": {
   "codemirror_mode": {
    "name": "ipython",
    "version": 3
   },
   "file_extension": ".py",
   "mimetype": "text/x-python",
   "name": "python",
   "nbconvert_exporter": "python",
   "pygments_lexer": "ipython3",
   "version": "3.12.1"
  }
 },
 "nbformat": 4,
 "nbformat_minor": 2
}
