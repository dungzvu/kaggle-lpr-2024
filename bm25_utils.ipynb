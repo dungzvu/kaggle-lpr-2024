{
 "cells": [
  {
   "cell_type": "code",
   "execution_count": 2,
   "id": "8032eaea-4bfa-4028-bba4-9500611877cf",
   "metadata": {},
   "outputs": [
    {
     "name": "stdout",
     "output_type": "stream",
     "text": [
      "INFO: Pandarallel will run on 10 workers.\n",
      "INFO: Pandarallel will use standard multiprocessing data transfer (pipe) to transfer data between the main process and workers.\n"
     ]
    }
   ],
   "source": [
    "import os\n",
    "import json\n",
    "import json\n",
    "import regex as re\n",
    "from tqdm.auto import tqdm\n",
    "tqdm.pandas()\n",
    "import math\n",
    "import pandas as pd\n",
    "import string\n",
    "# from pyvi.ViTokenizer import tokenize\n",
    "import pandas as pd\n",
    "import numpy as np\n",
    "import json, pickle\n",
    "from rank_bm25 import BM25Okapi\n",
    "import argparse\n",
    "import gc\n",
    "from tqdm.auto import tqdm\n",
    "tqdm.pandas()\n",
    "import regex as re\n",
    "import string\n",
    "\n",
    "import json \n",
    "from glob import glob \n",
    "import re \n",
    "from nltk import word_tokenize as lib_tokenizer \n",
    "import string\n",
    "\n",
    "from pandarallel import pandarallel\n",
    "from gensim.corpora import Dictionary\n",
    "from gensim.models import TfidfModel, OkapiBM25Model\n",
    "from gensim.similarities import SparseMatrixSimilarity\n",
    "import numpy as np\n",
    "pandarallel.initialize(progress_bar=True, use_memory_fs=False, nb_workers=10)"
   ]
  },
  {
   "cell_type": "code",
   "execution_count": 3,
   "id": "d3b2907e-93f5-49b6-b03e-5585acc8e8ce",
   "metadata": {},
   "outputs": [],
   "source": [
    "def get_topk(query, topk = 100):\n",
    "    tokenized_query = query.split()\n",
    "    tfidf_query = tfidf_model[dictionary.doc2bow(tokenized_query)]\n",
    "    scores = bm25_index[tfidf_query]\n",
    "    top_n = np.argsort(scores)[::-1][:topk]\n",
    "    texts = [df.description.values[i] for i in top_n]\n",
    "    objectives = [df.objective.values[i] for i in top_n]\n",
    "    # print(titles)\n",
    "    # print(tfidf_query, scores)\n",
    "    return objectives, texts, scores[top_n]\n",
    "\n",
    "def post_process(x):\n",
    "    x = \" \".join(word_tokenize(strip_context(x))).strip()\n",
    "    x = x.replace(\"\\n\",\" \")\n",
    "    x = \"\".join([i for i in x if i not in string.punctuation])\n",
    "    return x\n",
    "\n",
    "dict_map = dict({})  \n",
    "def word_tokenize(text): \n",
    "    global dict_map \n",
    "    words = text.split() \n",
    "    words_norm = [] \n",
    "    for w in words: \n",
    "        if dict_map.get(w, None) is None: \n",
    "            dict_map[w] = ' '.join(lib_tokenizer(w)).replace('``', '\"').replace(\"''\", '\"') \n",
    "        words_norm.append(dict_map[w]) \n",
    "    return words_norm \n",
    " \n",
    "def strip_answer_string(text): \n",
    "    text = text.strip() \n",
    "    while text[-1] in '.,/><;:\\'\"[]{}+=-_)(*&^!~`': \n",
    "        if text[0] != '(' and text[-1] == ')' and '(' in text: \n",
    "            break \n",
    "        if text[-1] == '\"' and text[0] != '\"' and text.count('\"') > 1: \n",
    "            break \n",
    "        text = text[:-1].strip() \n",
    "    while text[0] in '.,/><;:\\'\"[]{}+=-_)(*&^!~`': \n",
    "        if text[0] == '\"' and text[-1] != '\"' and text.count('\"') > 1: \n",
    "            break \n",
    "        text = text[1:].strip() \n",
    "    text = text.strip() \n",
    "    return text \n",
    " \n",
    "def strip_context(text): \n",
    "    text = text.replace('\\n', ' ') \n",
    "    text = re.sub(r'\\s+', ' ', text) \n",
    "    text = text.strip() \n",
    "    return text"
   ]
  },
  {
   "cell_type": "code",
   "execution_count": 4,
   "id": "3b65f394-31db-4da5-98f8-d937ff1c138e",
   "metadata": {},
   "outputs": [],
   "source": [
    "df_path = \"./final_objectives_cleaned.csv\"\n",
    "df = pd.read_csv(df_path)"
   ]
  },
  {
   "cell_type": "code",
   "execution_count": 5,
   "id": "fb60da89-8e60-4a7c-9b83-f38e70c009cf",
   "metadata": {},
   "outputs": [],
   "source": [
    "df = df.fillna(\"NaN\")"
   ]
  },
  {
   "cell_type": "code",
   "execution_count": 6,
   "id": "7e30b687-eff8-4de5-bff4-680b1289475f",
   "metadata": {},
   "outputs": [
    {
     "data": {
      "application/vnd.jupyter.widget-view+json": {
       "model_id": "5619d5ab529443bc83429d273f499bd1",
       "version_major": 2,
       "version_minor": 0
      },
      "text/plain": [
       "VBox(children=(HBox(children=(IntProgress(value=0, description='0.00%', max=84), Label(value='0 / 84'))), HBox…"
      ]
     },
     "metadata": {},
     "output_type": "display_data"
    }
   ],
   "source": [
    "df['description'] = df['description'].apply(lambda x: x.lower()).parallel_apply(post_process)\n",
    "corpus = [x.split() for x in df['description'].values]\n",
    "dictionary = Dictionary(corpus)\n",
    "bm25_model = OkapiBM25Model(dictionary=dictionary)\n",
    "bm25_corpus = bm25_model[list(map(dictionary.doc2bow, corpus))]\n",
    "bm25_index = SparseMatrixSimilarity(bm25_corpus, num_docs=len(corpus), num_terms=len(dictionary),normalize_queries=False, normalize_documents=False)\n",
    "tfidf_model = TfidfModel(dictionary=dictionary, smartirs='bnn')  # Enforce binary weighting of queries\n",
    "dictionary.save(\"./outputs/bm25_description/dict\")\n",
    "tfidf_model.save(\"./outputs/bm25_description/tfidf\")\n",
    "bm25_index.save(\"./outputs/bm25_description/bm25_index\")"
   ]
  },
  {
   "cell_type": "code",
   "execution_count": 7,
   "id": "b5c340f3",
   "metadata": {},
   "outputs": [
    {
     "data": {
      "text/plain": [
       "(['metaphysical poetry',\n",
       "  'political thriller',\n",
       "  'Harold Pinter',\n",
       "  \"Eugene O'Neill\",\n",
       "  'Bertolt Brecht',\n",
       "  'Neil Simon',\n",
       "  'Edward Albee',\n",
       "  'Tom Stoppard',\n",
       "  'Lorraine Hansberry',\n",
       "  'August Wilson'],\n",
       " ['this style is explores the realm of abstract concepts and spiritual truths through vivid imagery and symbolism ',\n",
       "  'this style is is a genre of fiction that blends political intrigue with suspenseful storytelling  often focusing on corruption  espionage  and highstakes political maneuvering ',\n",
       "  'the author s writing style is characterized by sharp  concise sentences and a minimalist use of language  often punctuated by pauses and silences  his style is characterized by a sense of unease and mystery  often exploring themes of memory  identity  and the human condition ',\n",
       "  'the author s writing style is characterized by lyrical  poetic language  often laced with humor and social commentary  he uses vivid imagery and symbolism to explore themes of human suffering  resilience  and identity ',\n",
       "  'the author s writing style is characterized by sharp  direct language  use of allegory and symbolism  and a focus on social commentary ',\n",
       "  'the author s writing style is characterized by witty humor  relatable characters  and a blend of social commentary and personal anecdote ',\n",
       "  'the author s writing style is characterized by sharp wit  lyrical prose  and a profound exploration of human relationships  his use of metaphor and symbolism is masterful  creating vivid and evocative imagery ',\n",
       "  'the author s writing style is witty  fastpaced  and layered with meaning  he uses vivid imagery and sharp humor to create characters that are both relatable and memorable ',\n",
       "  'the author s writing style is characterized by sharp wit  lyrical prose  and a powerful use of imagery  her use of colloquial language and vivid characterization creates a strong sense of place and community ',\n",
       "  'the author s writing style is characterized by lyrical language  vivid imagery  and a deep exploration of the african american experience  he uses poetic language to paint a vivid picture of characters and settings  and his stories explore themes of race  identity  and family '],\n",
       " array([6.850035, 0.      , 0.      , 0.      , 0.      , 0.      ,\n",
       "        0.      , 0.      , 0.      , 0.      ], dtype=float32))"
      ]
     },
     "execution_count": 7,
     "metadata": {},
     "output_type": "execute_result"
    }
   ],
   "source": [
    "# get_topk(\"This summarizes the organization's adherence to relevant regulations and standards.\", topk=10)\n",
    "get_topk(\"abstract\", topk=10)"
   ]
  }
 ],
 "metadata": {
  "kernelspec": {
   "display_name": "Python 3 (ipykernel)",
   "language": "python",
   "name": "python3"
  },
  "language_info": {
   "codemirror_mode": {
    "name": "ipython",
    "version": 3
   },
   "file_extension": ".py",
   "mimetype": "text/x-python",
   "name": "python",
   "nbconvert_exporter": "python",
   "pygments_lexer": "ipython3",
   "version": "3.12.1"
  }
 },
 "nbformat": 4,
 "nbformat_minor": 5
}
