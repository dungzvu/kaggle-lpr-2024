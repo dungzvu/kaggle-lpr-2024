{
 "cells": [
  {
   "cell_type": "code",
   "execution_count": 3,
   "metadata": {},
   "outputs": [],
   "source": [
    "import torch\n",
    "from sentence_transformers import SentenceTransformer\n",
    "\n",
    "t5base_model = None\n",
    "\n",
    "# Function to calculate sharpened cosine similarity\n",
    "def sharpened_cosine_similarity(vec1, vec2, exponent=3):\n",
    "    cosine_similarity = torch.nn.functional.cosine_similarity(vec1, vec2, dim=0)\n",
    "    return cosine_similarity ** exponent\n",
    "\n",
    "#provides similarity scores of a test_phrase against an array of phrases\n",
    "def compare_phrases(test_phrase, phrases):\n",
    "    global t5base_model\n",
    "    t5base_model = SentenceTransformer('sentence-t5-base')\n",
    "    if torch.cuda.is_available():\n",
    "        t5base_model = t5base_model.to(torch.device(\"cuda\"))\n",
    "    model = t5base_model\n",
    "\n",
    "    scores = []\n",
    "    test_embedding = model.encode(test_phrase, convert_to_tensor=True, show_progress_bar=False)\n",
    "\n",
    "    for phrase in phrases:\n",
    "        compare_embedding = model.encode(phrase, convert_to_tensor=True, show_progress_bar=False)\n",
    "        score = sharpened_cosine_similarity(test_embedding, compare_embedding).item()\n",
    "        scores.append(score)\n",
    "\n",
    "    return scores"
   ]
  },
  {
   "cell_type": "code",
   "execution_count": 4,
   "metadata": {},
   "outputs": [
    {
     "name": "stdout",
     "output_type": "stream",
     "text": [
      "Rewrite the text as a poetic narrative. => 0.7596\n"
     ]
    }
   ],
   "source": [
    "target = \"Rewrite the essay as a poem\"\n",
    "\n",
    "texts = [\n",
    "    \"Rewrite the text as a poetic narrative.\",\n",
    "]\n",
    "\n",
    "scores = compare_phrases(target, texts)\n",
    "\n",
    "for t, s in zip(texts, scores):\n",
    "    print(f\"{t} => {s:.4f}\")"
   ]
  }
 ],
 "metadata": {
  "kernelspec": {
   "display_name": "base",
   "language": "python",
   "name": "python3"
  },
  "language_info": {
   "codemirror_mode": {
    "name": "ipython",
    "version": 3
   },
   "file_extension": ".py",
   "mimetype": "text/x-python",
   "name": "python",
   "nbconvert_exporter": "python",
   "pygments_lexer": "ipython3",
   "version": "3.12.1"
  }
 },
 "nbformat": 4,
 "nbformat_minor": 2
}
