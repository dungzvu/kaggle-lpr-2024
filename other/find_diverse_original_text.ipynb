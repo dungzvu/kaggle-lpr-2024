{
 "cells": [
  {
   "cell_type": "code",
   "execution_count": 13,
   "metadata": {},
   "outputs": [
    {
     "data": {
      "text/plain": [
       "(359, 3)"
      ]
     },
     "execution_count": 13,
     "metadata": {},
     "output_type": "execute_result"
    }
   ],
   "source": [
    "import pandas as pd\n",
    "\n",
    "df = pd.read_csv(\"./data/0401/gemma_suppl_test.csv\")\n",
    "\n",
    "df.shape"
   ]
  },
  {
   "cell_type": "code",
   "execution_count": 14,
   "metadata": {},
   "outputs": [
    {
     "name": "stdout",
     "output_type": "stream",
     "text": [
      "359\n"
     ]
    }
   ],
   "source": [
    "# encode\n",
    "from sentence_transformers import SentenceTransformer\n",
    "\n",
    "t5_base = SentenceTransformer('sentence-t5-base')\n",
    "\n",
    "embeddings = t5_base.encode(df['original_text'].tolist()).tolist()\n",
    "\n",
    "print(len(embeddings))"
   ]
  },
  {
   "cell_type": "code",
   "execution_count": 15,
   "metadata": {},
   "outputs": [
    {
     "name": "stderr",
     "output_type": "stream",
     "text": [
      "/opt/miniconda3/lib/python3.12/site-packages/sklearn/cluster/_kmeans.py:1412: FutureWarning: The default value of `n_init` will change from 10 to 'auto' in 1.4. Set the value of `n_init` explicitly to suppress the warning\n",
      "  super()._check_params_vs_input(X, default_n_init=10)\n"
     ]
    },
    {
     "name": "stdout",
     "output_type": "stream",
     "text": [
      "Diverse subset: 150\n"
     ]
    }
   ],
   "source": [
    "from sklearn.cluster import KMeans\n",
    "import numpy as np\n",
    "\n",
    "def diverse_subset(vectors, k):\n",
    "    # Convert vectors to numpy array\n",
    "    X = np.array(vectors)\n",
    "    \n",
    "    # Perform K-means clustering\n",
    "    kmeans = KMeans(n_clusters=k)\n",
    "    kmeans.fit(X)\n",
    "    \n",
    "    # Get the cluster labels\n",
    "    cluster_labels = kmeans.labels_\n",
    "    \n",
    "    # Find the centroids of each cluster\n",
    "    centroids = kmeans.cluster_centers_\n",
    "    \n",
    "    # Initialize a list to store the diverse subset\n",
    "    diverse_subset = []\n",
    "    \n",
    "    # Select one vector from each cluster to include in the diverse subset\n",
    "    for i in range(k):\n",
    "        cluster_indices = np.where(cluster_labels == i)[0]\n",
    "        if len(cluster_indices) > 0:\n",
    "            # Choose a representative vector from the cluster (e.g., centroid)\n",
    "            representative_index = np.argmin(np.linalg.norm(X[cluster_indices] - centroids[i], axis=1))\n",
    "            diverse_subset.append(cluster_indices[representative_index])\n",
    "    \n",
    "    return diverse_subset\n",
    "\n",
    "subset = diverse_subset(embeddings, 150)\n",
    "print(\"Diverse subset:\", len(subset))"
   ]
  },
  {
   "cell_type": "code",
   "execution_count": 16,
   "metadata": {},
   "outputs": [],
   "source": [
    "df.iloc[subset].sample(frac=1).reset_index(drop=True).to_csv(\"./data/0401/150_suppl_original_text.csv\", index=False, columns=['original_text'])"
   ]
  }
 ],
 "metadata": {
  "kernelspec": {
   "display_name": "base",
   "language": "python",
   "name": "python3"
  },
  "language_info": {
   "codemirror_mode": {
    "name": "ipython",
    "version": 3
   },
   "file_extension": ".py",
   "mimetype": "text/x-python",
   "name": "python",
   "nbconvert_exporter": "python",
   "pygments_lexer": "ipython3",
   "version": "3.12.1"
  }
 },
 "nbformat": 4,
 "nbformat_minor": 2
}
