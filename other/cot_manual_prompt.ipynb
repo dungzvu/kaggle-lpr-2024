{
 "cells": [
  {
   "cell_type": "code",
   "execution_count": null,
   "metadata": {},
   "outputs": [],
   "source": [
    "!nvidia-smi"
   ]
  },
  {
   "cell_type": "code",
   "execution_count": null,
   "metadata": {},
   "outputs": [],
   "source": [
    "import pandas as pd\n",
    "\n",
    "def truncate_by_words(text, num_words):\n",
    "    words = text.split()\n",
    "    if len(words) <= num_words:\n",
    "        return text\n",
    "    else:\n",
    "        return \" \".join(words[:num_words])\n",
    "\n",
    "text_df = pd.read_csv(\"./data/0401/gemma_suppl_test.csv\")\n",
    "text_df['original_text'] = text_df.apply(lambda x: truncate_by_words(x['original_text'], 100), axis=1)\n",
    "\n",
    "df1 = pd.read_csv(\"./data/0401/nbroad-v2.csv\")\n",
    "df2 = pd.read_csv(\"./data/0401/gemma_suppl_rewrite.csv\")\n",
    "\n",
    "df2['rewrite_prompt'] = df2['rewrite_prompts']\n",
    "\n",
    "prompt_df = pd.concat([df1[['rewrite_prompt']], df2[['rewrite_prompt']]])\n",
    "distinct_rewrite_prompts = prompt_df['rewrite_prompt'].unique()\n",
    "distinct_rewrite_prompts"
   ]
  },
  {
   "cell_type": "code",
   "execution_count": null,
   "metadata": {},
   "outputs": [],
   "source": [
    "# encode\n",
    "from sentence_transformers import SentenceTransformer\n",
    "\n",
    "t5_base = SentenceTransformer('sentence-t5-base')\n",
    "#  t5_base.encode(df['original_text'].tolist()).tolist()"
   ]
  },
  {
   "cell_type": "code",
   "execution_count": null,
   "metadata": {},
   "outputs": [],
   "source": [
    "from sklearn.cluster import KMeans\n",
    "import numpy as np\n",
    "\n",
    "def diverse_subset(texts, k):\n",
    "    embeddings = t5_base.encode(texts).tolist()\n",
    "    # Convert vectors to numpy array\n",
    "    X = np.array(embeddings)\n",
    "    \n",
    "    # Perform K-means clustering\n",
    "    kmeans = KMeans(n_clusters=k)\n",
    "    kmeans.fit(X)\n",
    "    \n",
    "    # Get the cluster labels\n",
    "    cluster_labels = kmeans.labels_\n",
    "    \n",
    "    # Find the centroids of each cluster\n",
    "    centroids = kmeans.cluster_centers_\n",
    "    \n",
    "    # Initialize a list to store the diverse subset\n",
    "    diverse_subset = []\n",
    "    clusters = []\n",
    "    \n",
    "    # Select one vector from each cluster to include in the diverse subset\n",
    "    for i in range(k):\n",
    "        cluster_indices = np.where(cluster_labels == i)[0]\n",
    "        if len(cluster_indices) > 0:\n",
    "            # Choose a representative vector from the cluster (e.g., centroid)\n",
    "            sorted_indices = np.argsort(np.linalg.norm(X[cluster_indices] - centroids[i], axis=1))\n",
    "            # representative_index = np.argmin(np.linalg.norm(X[cluster_indices] - centroids[i], axis=1))\n",
    "            # diverse_subset.append(cluster_indices[representative_index])\n",
    "            for idx in sorted_indices[:1]:\n",
    "                diverse_subset.append(cluster_indices[idx])\n",
    "                clusters.append(i)\n",
    "    \n",
    "    return diverse_subset, clusters\n",
    "\n",
    "prompts, prompt_cluster_indices = diverse_subset(distinct_rewrite_prompts, 60)\n",
    "texts, _ = diverse_subset(text_df['original_text'].tolist(), 60)\n",
    "\n",
    "prompts = [prompt_df.iloc[i]['rewrite_prompt'] for i in prompts]\n",
    "texts = [text_df.iloc[i]['original_text'] for i in texts[:60]]\n",
    "\n",
    "print(prompts.__len__())\n",
    "print(texts.__len__())\n",
    "print(prompt_cluster_indices.__len__())"
   ]
  },
  {
   "cell_type": "code",
   "execution_count": null,
   "metadata": {},
   "outputs": [],
   "source": [
    "seed_df = pd.DataFrame({'prompt': prompts, 'text': texts, 'cluster': prompt_cluster_indices})\n",
    "seed_df.to_csv(\"./data/0304/seed.csv\", index=False)"
   ]
  }
 ],
 "metadata": {
  "kernelspec": {
   "display_name": "Python 3 (ipykernel)",
   "language": "python",
   "name": "python3"
  },
  "language_info": {
   "codemirror_mode": {
    "name": "ipython",
    "version": 3
   },
   "file_extension": ".py",
   "mimetype": "text/x-python",
   "name": "python",
   "nbconvert_exporter": "python",
   "pygments_lexer": "ipython3",
   "version": "3.10.13"
  }
 },
 "nbformat": 4,
 "nbformat_minor": 2
}
